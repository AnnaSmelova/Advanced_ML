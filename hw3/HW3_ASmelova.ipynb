{
 "cells": [
  {
   "cell_type": "markdown",
   "metadata": {},
   "source": [
    "## Advanced ML: Домашнее задание 3"
   ]
  },
  {
   "attachments": {},
   "cell_type": "markdown",
   "metadata": {},
   "source": [
    "Третье домашнее задание посвящено достаточно простой, но, надеюсь, интересной задаче, в которой потребуется творчески применить методы сэмплирования. Как и раньше, в качестве решения ожидается ссылка на jupyter-ноутбук на вашем github (или публичный, или с доступом для snikolenko); ссылку обязательно нужно прислать в виде сданного домашнего задания на портале Академии. Как всегда, любые комментарии, новые идеи и рассуждения на тему категорически приветствуются. \n",
    "В этом небольшом домашнем задании мы попробуем улучшить метод Шерлока Холмса. Как известно, в рассказе The Adventure of the Dancing Men великий сыщик расшифровал загадочные письмена, которые выглядели примерно так:\n",
    "<img src=\"hw3_data/hw3_img.png\" style=\"height:50px\">"
   ]
  },
  {
   "attachments": {},
   "cell_type": "markdown",
   "metadata": {},
   "source": [
    "Пользовался он для этого так называемым частотным методом: смотрел, какие буквы чаще встречаются в зашифрованных текстах, и пытался подставить буквы в соответствии с частотной таблицей: E — самая частая и так далее.<br><br>\n",
    "В этом задании мы будем разрабатывать более современный и продвинутый вариант такого частотного метода. В качестве корпусов текстов для подсчётов частот можете взять что угодно, но для удобства вот вам <a href='https://www.dropbox.com/s/k23enjvr3fb40o5/corpora.zip'>“Война и мир” по-русски и по-английски</a>"
   ]
  },
  {
   "attachments": {},
   "cell_type": "markdown",
   "metadata": {},
   "source": [
    "1.\tРеализуйте базовый частотный метод по Шерлоку Холмсу:\n",
    "* подсчитайте частоты букв по корпусам (пунктуацию и капитализацию можно просто опустить, а вот пробелы лучше оставить);\n",
    "* возьмите какие-нибудь тестовые тексты (нужно взять по меньшей мере 2-3 предложения, иначе вряд ли сработает), зашифруйте их посредством случайной перестановки символов;\n",
    "* расшифруйте их таким частотным методом.\n",
    "2.\tВряд ли в результате получилась такая уж хорошая расшифровка, разве что если вы брали в качестве тестовых данных целые рассказы. Но и Шерлок Холмс был не так уж прост: после буквы E, которая действительно выделяется частотой, дальше он анализировал уже конкретные слова и пытался угадать, какими они могли бы быть. Я не знаю, как запрограммировать такой интуитивный анализ, так что давайте просто сделаем следующий логический шаг:\n",
    "* подсчитайте частоты биграмм (т.е. пар последовательных букв) по корпусам;\n",
    "* проведите тестирование аналогично п.1, но при помощи биграмм (В качестве естественной метрики качества можно взять долю правильно расшифрованных букв или, если хочется совсем математически изощриться, расстояние между двумя перестановками, правильной и полученной из модели; но, честно говоря, в этом задании следить за численными метриками не так уж обязательно, будет и глазами всё видно).\n",
    "3.\tНо и это ещё не всё: биграммы скорее всего тоже далеко не всегда работают. Основная часть задания — в том, как можно их улучшить:\n",
    "* предложите метод обучения перестановки символов в этом задании, основанный на MCMC-сэмплировании, но по-прежнему работающий на основе статистики биграмм;\n",
    "* реализуйте и протестируйте его, убедитесь, что результаты улучшились.\n",
    "4.\tРасшифруйте сообщение:<br>\n",
    "←⇠⇒↟↹↷⇊↹↷↟↤↟↨←↹↝⇛⇯↳⇴⇒⇈↝⇊↾↹↟⇒↟↹⇷⇛⇞↨↟↹↝⇛⇯↳⇴⇒⇈↝⇊↾↹↨←⇌⇠↨↹⇙↹⇸↨⇛↙⇛↹⇠⇛⇛↲⇆←↝↟↞↹⇌⇛↨⇛⇯⇊↾↹⇒←↙⇌⇛↹⇷⇯⇛⇞↟↨⇴↨⇈↹⇠⇌⇛⇯←←↹↷⇠←↙⇛↹↷⇊↹↷⇠←↹⇠↤←⇒⇴⇒↟↹⇷⇯⇴↷↟⇒⇈↝⇛↹↟↹⇷⇛⇒⇙⇞↟↨←↹↳⇴⇌⇠↟↳⇴⇒⇈↝⇊↾↹↲⇴⇒⇒↹⇰⇴↹⇷⇛⇠⇒←↤↝←←↹⇞←↨↷←⇯↨⇛←↹⇰⇴↤⇴↝↟←↹⇌⇙⇯⇠⇴↹↘⇛↨↞↹⇌⇛↝←⇞↝⇛↹↞↹↝↟⇞←↙⇛↹↝←↹⇛↲←⇆⇴⇏\n",
    "<br><br>\n",
    "Или это (они одинаковые, второй вариант просто на случай проблем с юникодом):<br>\n",
    "დჳჵჂႨშႼႨშჂხჂჲდႨსႹႭჾႣჵისႼჰႨჂჵჂႨႲႹႧჲჂႨსႹႭჾႣჵისႼჰႨჲდႩჳჲႨჇႨႠჲႹქႹႨჳႹႹჱჶდსჂႽႨႩႹჲႹႭႼჰႨჵდქႩႹႨႲႭႹႧჂჲႣჲიႨჳႩႹႭდდႨშჳდქႹႨშႼႨშჳდႨჳხდჵႣჵჂႨႲႭႣშჂჵისႹႨჂႨႲႹჵჇႧჂჲდႨჾႣႩჳჂჾႣჵისႼჰႨჱႣჵჵႨეႣႨႲႹჳჵდხსდდႨႧდჲშდႭჲႹდႨეႣხႣსჂდႨႩჇႭჳႣႨႾႹჲႽႨႩႹსდႧსႹႨႽႨსჂႧდქႹႨსდႨႹჱდჶႣნ\n"
   ]
  },
  {
   "attachments": {},
   "cell_type": "markdown",
   "metadata": {},
   "source": [
    "5.\tБонус: а что если от биграмм перейти к триграммам (тройкам букв) или даже больше? Улучшатся ли результаты? Когда улучшатся, а когда нет? Чтобы ответить на этот вопрос эмпирически, уже может понадобиться погенерировать много тестовых перестановок и последить за метриками, глазами может быть и не видно.\n",
    "6.\tБонус: какие вы можете придумать применения для этой модели? Пляшущие человечки ведь не так часто встречаются в жизни (хотя встречаются! и это самое потрясающее во всей этой истории, но об этом я расскажу потом)."
   ]
  },
  {
   "cell_type": "markdown",
   "metadata": {},
   "source": [
    "### Часть 1\n",
    "1.\tРеализуйте базовый частотный метод по Шерлоку Холмсу:\n",
    "* подсчитайте частоты букв по корпусам (пунктуацию и капитализацию можно просто опустить, а вот пробелы лучше оставить);\n",
    "* возьмите какие-нибудь тестовые тексты (нужно взять по меньшей мере 2-3 предложения, иначе вряд ли сработает), зашифруйте их посредством случайной перестановки символов;\n",
    "* расшифруйте их таким частотным методом."
   ]
  },
  {
   "cell_type": "code",
   "execution_count": 1,
   "metadata": {},
   "outputs": [],
   "source": [
    "import re\n",
    "import random\n",
    "import numpy as np\n",
    "from collections import Counter\n",
    "from tqdm.notebook import tqdm\n",
    "\n",
    "import warnings\n",
    "warnings.filterwarnings('ignore')\n",
    "\n",
    "np.random.seed(87)\n",
    "random.seed(59)"
   ]
  },
  {
   "cell_type": "code",
   "execution_count": 2,
   "metadata": {},
   "outputs": [],
   "source": [
    "UNKNOWN_SYMBOL = '?'"
   ]
  },
  {
   "cell_type": "markdown",
   "metadata": {},
   "source": [
    "Загрузим и предобработаем тестовые тексты:"
   ]
  },
  {
   "cell_type": "code",
   "execution_count": 3,
   "metadata": {},
   "outputs": [],
   "source": [
    "with open('hw3_data/corpora/WarAndPeace.txt', 'r') as f_ru:\n",
    "    war_and_peace = f_ru.read()\n",
    "    \n",
    "with open('hw3_data/corpora/WarAndPeaceEng.txt', 'r', encoding='utf-8-sig') as f_eng:\n",
    "    war_and_peace_eng = f_eng.read()"
   ]
  },
  {
   "cell_type": "code",
   "execution_count": 4,
   "metadata": {},
   "outputs": [
    {
     "name": "stdout",
     "output_type": "stream",
     "text": [
      "war_and_peace: 717873\n",
      "\n",
      "Before prep:\n",
      " Annotation\n",
      "\n",
      "\n",
      "\t\"Война и мир\" – самый известный роман Льва Николаевича Толстого, как никакое другое произведение писателя, отражает глубину его мироощущения и философии.\tЭта книга из разряда вечных, пот\n",
      "\n",
      "After prep:\n",
      " война и мир самый известный роман льва николаевича толстого как никакое другое произведение писателя отражает глубину его мироощущения и философии эта книга из разряда вечных потому что она обо всем о\n",
      "\n"
     ]
    }
   ],
   "source": [
    "print(f'war_and_peace: {len(war_and_peace)}\\n')\n",
    "print(f'Before prep:\\n {war_and_peace[:200]}\\n')\n",
    "war_and_peace = re.sub(r'[^а-яё ]', ' ', war_and_peace.lower())\n",
    "war_and_peace = re.sub(r'\\s+', ' ', war_and_peace)\n",
    "war_and_peace = war_and_peace[1:]\n",
    "print(f'After prep:\\n {war_and_peace[:200]}\\n')"
   ]
  },
  {
   "cell_type": "code",
   "execution_count": 5,
   "metadata": {},
   "outputs": [
    {
     "name": "stdout",
     "output_type": "stream",
     "text": [
      "war_and_peace_eng: 3226614\n",
      "\n",
      "Before prep:\n",
      " The Project Gutenberg EBook of War and Peace, by Leo Tolstoy\n",
      "\n",
      "This eBook is for the use of anyone anywhere at no cost and with almost\n",
      "no restrictions whatsoever.  You may copy it, give it away or re-u\n",
      "\n",
      "After prep:\n",
      " he project gutenberg ebook of war and peace by leo tolstoy this ebook is for the use of anyone anywhere at no cost and with almost no restrictions whatsoever you may copy it give it away or re use it \n",
      "\n"
     ]
    }
   ],
   "source": [
    "print(f'war_and_peace_eng: {len(war_and_peace_eng)}\\n')\n",
    "print(f'Before prep:\\n {war_and_peace_eng[:200]}\\n')\n",
    "war_and_peace_eng = re.sub(r'[^a-z]', ' ', war_and_peace_eng.lower())\n",
    "war_and_peace_eng = re.sub(r'\\s+', ' ', war_and_peace_eng)\n",
    "war_and_peace_eng = war_and_peace_eng[1:]\n",
    "print(f'After prep:\\n {war_and_peace_eng[:200]}\\n')"
   ]
  },
  {
   "cell_type": "markdown",
   "metadata": {},
   "source": [
    "Разобьем тексты на тренировочную и тестовую выборки.<br>\n",
    "На тренировочной выборке будем считать частоты, на тестовой - кодировать и пытаться декодировать с помощью получившихся частот."
   ]
  },
  {
   "cell_type": "code",
   "execution_count": 6,
   "metadata": {},
   "outputs": [],
   "source": [
    "train_part_ru = war_and_peace[:-10000]\n",
    "test_part_ru = war_and_peace[-10000:]\n",
    "\n",
    "train_part_eng = war_and_peace_eng[:-10000]\n",
    "test_part_eng = war_and_peace_eng[-10000:]"
   ]
  },
  {
   "cell_type": "code",
   "execution_count": 7,
   "metadata": {},
   "outputs": [
    {
     "data": {
      "text/plain": [
       "'сь сжалась тронулась несколько шагов и опять остановилась пройти эти сто шагов и наверное спасен простоять еще две минуты и погиб наверное думал каждый долохов стоявший в середине толпы рванулся к краю плотины сбив с ног двух солдат и сбежал на скользкий лед покрывший пруд сворачивай закричал он подпрыгивая по льду который трещал под ним сворачивай кричал он на орудие держит лед держал его но гнулся и трещал и очевидно было что не только под орудием или толпой народа но под ним одним он сейчас рухнется на него смотрели и жались к берегу не решаясь еще ступить на лед командир полка стоявший верхом у въезда поднял руку и раскрыл рот обращаясь к долохову вдруг одно из ядер так низко засвистело над толпой что все нагнулись что то шлепнулось в мокрое и генерал упал с лошадью в лужу крови никто не взглянул на генерала не подумал поднять его пошел на лед пошел по льду пошел вороти аль не слышишь пошел вдруг после ядра попавшего в генерала послышались бесчисленные голоса сами не зная что и зач'"
      ]
     },
     "execution_count": 7,
     "metadata": {},
     "output_type": "execute_result"
    }
   ],
   "source": [
    "test_part_ru[:1000]"
   ]
  },
  {
   "cell_type": "code",
   "execution_count": 8,
   "metadata": {},
   "outputs": [
    {
     "data": {
      "text/plain": [
       "'ting project gutenberg tm electronic works provided that you pay a royalty fee of of the gross profits you derive from the use of project gutenberg tm works calculated using the method you already use to calculate your applicable taxes the fee is owed to the owner of the project gutenberg tm trademark but he has agreed to donate royalties under this paragraph to the project gutenberg literary archive foundation royalty payments must be paid within days following each date on which you prepare or are legally required to prepare your periodic tax returns royalty payments should be clearly marked as such and sent to the project gutenberg literary archive foundation at the address specified in section information about donations to the project gutenberg literary archive foundation you provide a full refund of any money paid by a user who notifies you in writing or by e mail within days of receipt that s he does not agree to the terms of the full project gutenberg tm license you must requir'"
      ]
     },
     "execution_count": 8,
     "metadata": {},
     "output_type": "execute_result"
    }
   ],
   "source": [
    "test_part_eng[:1000]"
   ]
  },
  {
   "cell_type": "markdown",
   "metadata": {},
   "source": [
    "Подсчитаем частоты букв по корпусам:"
   ]
  },
  {
   "cell_type": "code",
   "execution_count": 9,
   "metadata": {},
   "outputs": [],
   "source": [
    "char_cnt_ru = Counter(train_part_ru)\n",
    "char_cnt_eng = Counter(train_part_eng)"
   ]
  },
  {
   "cell_type": "code",
   "execution_count": 10,
   "metadata": {},
   "outputs": [
    {
     "data": {
      "text/plain": [
       "Counter({'в': 24461,\n",
       "         'о': 60281,\n",
       "         'й': 6106,\n",
       "         'н': 34505,\n",
       "         'а': 44557,\n",
       "         ' ': 102847,\n",
       "         'и': 35276,\n",
       "         'м': 15690,\n",
       "         'р': 24208,\n",
       "         'с': 27680,\n",
       "         'ы': 10071,\n",
       "         'з': 9452,\n",
       "         'е': 41841,\n",
       "         'т': 30188,\n",
       "         'л': 26793,\n",
       "         'ь': 10350,\n",
       "         'к': 19040,\n",
       "         'ч': 7224,\n",
       "         'г': 11008,\n",
       "         'д': 16134,\n",
       "         'у': 15247,\n",
       "         'п': 13605,\n",
       "         'я': 12290,\n",
       "         'ж': 5378,\n",
       "         'б': 9181,\n",
       "         'щ': 1489,\n",
       "         'ф': 1198,\n",
       "         'э': 1594,\n",
       "         'х': 4533,\n",
       "         'ю': 3462,\n",
       "         'ш': 5001,\n",
       "         'ц': 2163,\n",
       "         'ё': 424,\n",
       "         'ъ': 272})"
      ]
     },
     "execution_count": 10,
     "metadata": {},
     "output_type": "execute_result"
    }
   ],
   "source": [
    "char_cnt_ru"
   ]
  },
  {
   "cell_type": "code",
   "execution_count": 11,
   "metadata": {},
   "outputs": [
    {
     "data": {
      "text/plain": [
       "Counter({'h': 167148,\n",
       "         'e': 314252,\n",
       "         ' ': 574510,\n",
       "         'p': 45301,\n",
       "         'r': 147802,\n",
       "         'o': 192146,\n",
       "         'j': 2533,\n",
       "         'c': 61289,\n",
       "         't': 225563,\n",
       "         'g': 51134,\n",
       "         'u': 65146,\n",
       "         'n': 183582,\n",
       "         'b': 34517,\n",
       "         'k': 20374,\n",
       "         'f': 54657,\n",
       "         'w': 59077,\n",
       "         'a': 205213,\n",
       "         'd': 117969,\n",
       "         'y': 46098,\n",
       "         'l': 96248,\n",
       "         's': 162499,\n",
       "         'i': 173663,\n",
       "         'm': 61440,\n",
       "         'v': 27019,\n",
       "         'x': 4360,\n",
       "         'z': 2387,\n",
       "         'q': 2321})"
      ]
     },
     "execution_count": 11,
     "metadata": {},
     "output_type": "execute_result"
    }
   ],
   "source": [
    "char_cnt_eng"
   ]
  },
  {
   "cell_type": "markdown",
   "metadata": {},
   "source": [
    "Случайным образом перемешаем буквы и составим маппинг для кодирования:"
   ]
  },
  {
   "cell_type": "code",
   "execution_count": 12,
   "metadata": {},
   "outputs": [
    {
     "name": "stdout",
     "output_type": "stream",
     "text": [
      "['в', 'о', 'й', 'н', 'а', ' ', 'и', 'м', 'р', 'с', 'ы', 'з', 'е', 'т', 'л', 'ь', 'к', 'ч', 'г', 'д', 'у', 'п', 'я', 'ж', 'б', 'щ', 'ф', 'э', 'х', 'ю', 'ш', 'ц', 'ё', 'ъ']\n",
      "['щ', 'ё', ' ', 'ъ', 'ж', 'о', 'м', 'ю', 'е', 'а', 'ч', 'г', 'ф', 'к', 'б', 'й', 'з', 'п', 'у', 'я', 'н', 'х', 'р', 'ы', 'л', 'ц', 'с', 'в', 'д', 'ш', 'и', 'э', 'ь', 'т']\n"
     ]
    }
   ],
   "source": [
    "chars_ru = list(char_cnt_ru.keys())\n",
    "chars_ru_encoded = chars_ru.copy()\n",
    "np.random.shuffle(chars_ru_encoded)\n",
    "print(chars_ru)\n",
    "print(chars_ru_encoded)\n",
    "encode_mapping_ru = dict(zip(chars_ru, chars_ru_encoded))\n",
    "decode_mapping_ru = {v: k for k, v in encode_mapping_ru.items()} # обратный маппинг для оценки"
   ]
  },
  {
   "cell_type": "code",
   "execution_count": 13,
   "metadata": {},
   "outputs": [
    {
     "data": {
      "text/plain": [
       "{'в': 'щ',\n",
       " 'о': 'ё',\n",
       " 'й': ' ',\n",
       " 'н': 'ъ',\n",
       " 'а': 'ж',\n",
       " ' ': 'о',\n",
       " 'и': 'м',\n",
       " 'м': 'ю',\n",
       " 'р': 'е',\n",
       " 'с': 'а',\n",
       " 'ы': 'ч',\n",
       " 'з': 'г',\n",
       " 'е': 'ф',\n",
       " 'т': 'к',\n",
       " 'л': 'б',\n",
       " 'ь': 'й',\n",
       " 'к': 'з',\n",
       " 'ч': 'п',\n",
       " 'г': 'у',\n",
       " 'д': 'я',\n",
       " 'у': 'н',\n",
       " 'п': 'х',\n",
       " 'я': 'р',\n",
       " 'ж': 'ы',\n",
       " 'б': 'л',\n",
       " 'щ': 'ц',\n",
       " 'ф': 'с',\n",
       " 'э': 'в',\n",
       " 'х': 'д',\n",
       " 'ю': 'ш',\n",
       " 'ш': 'и',\n",
       " 'ц': 'э',\n",
       " 'ё': 'ь',\n",
       " 'ъ': 'т'}"
      ]
     },
     "execution_count": 13,
     "metadata": {},
     "output_type": "execute_result"
    }
   ],
   "source": [
    "encode_mapping_ru"
   ]
  },
  {
   "cell_type": "code",
   "execution_count": 14,
   "metadata": {},
   "outputs": [
    {
     "name": "stdout",
     "output_type": "stream",
     "text": [
      "['h', 'e', ' ', 'p', 'r', 'o', 'j', 'c', 't', 'g', 'u', 'n', 'b', 'k', 'f', 'w', 'a', 'd', 'y', 'l', 's', 'i', 'm', 'v', 'x', 'z', 'q']\n",
      "['q', 'm', 'p', 'd', 'o', 'h', 'y', 'v', 'i', 'x', ' ', 'b', 'l', 's', 'c', 'e', 'j', 'k', 'z', 'a', 'n', 'r', 'w', 'f', 't', 'g', 'u']\n"
     ]
    }
   ],
   "source": [
    "chars_eng = list(char_cnt_eng.keys())\n",
    "chars_eng_encoded = chars_eng.copy()\n",
    "np.random.shuffle(chars_eng_encoded)\n",
    "print(chars_eng)\n",
    "print(chars_eng_encoded)\n",
    "encode_mapping_eng = dict(zip(chars_eng, chars_eng_encoded))\n",
    "decode_mapping_eng = {v: k for k, v in encode_mapping_eng.items()} # обратный маппинг для оценки"
   ]
  },
  {
   "cell_type": "code",
   "execution_count": 15,
   "metadata": {},
   "outputs": [
    {
     "data": {
      "text/plain": [
       "{'h': 'q',\n",
       " 'e': 'm',\n",
       " ' ': 'p',\n",
       " 'p': 'd',\n",
       " 'r': 'o',\n",
       " 'o': 'h',\n",
       " 'j': 'y',\n",
       " 'c': 'v',\n",
       " 't': 'i',\n",
       " 'g': 'x',\n",
       " 'u': ' ',\n",
       " 'n': 'b',\n",
       " 'b': 'l',\n",
       " 'k': 's',\n",
       " 'f': 'c',\n",
       " 'w': 'e',\n",
       " 'a': 'j',\n",
       " 'd': 'k',\n",
       " 'y': 'z',\n",
       " 'l': 'a',\n",
       " 's': 'n',\n",
       " 'i': 'r',\n",
       " 'm': 'w',\n",
       " 'v': 'f',\n",
       " 'x': 't',\n",
       " 'z': 'g',\n",
       " 'q': 'u'}"
      ]
     },
     "execution_count": 15,
     "metadata": {},
     "output_type": "execute_result"
    }
   ],
   "source": [
    "encode_mapping_eng"
   ]
  },
  {
   "cell_type": "markdown",
   "metadata": {},
   "source": [
    "Зашифруем тестовые тексты с помощью получившегося маппинга:"
   ]
  },
  {
   "cell_type": "code",
   "execution_count": 16,
   "metadata": {},
   "outputs": [],
   "source": [
    "def encode_text(text, mapping):\n",
    "    text_encoded = ''\n",
    "    for char in text:\n",
    "        text_encoded += mapping.get(char, UNKNOWN_SYMBOL)\n",
    "    return text_encoded"
   ]
  },
  {
   "cell_type": "code",
   "execution_count": 17,
   "metadata": {},
   "outputs": [],
   "source": [
    "test_part_ru_encoded = encode_text(test_part_ru, encode_mapping_ru)\n",
    "test_part_eng_encoded = encode_text(test_part_eng, encode_mapping_eng)"
   ]
  },
  {
   "cell_type": "code",
   "execution_count": 18,
   "metadata": {},
   "outputs": [
    {
     "data": {
      "text/plain": [
       "'айоаыжбжайокеёънбжайоъфазёбйзёоижуёщомоёхркйоёакжъёщмбжайохеё кмовкмоакёоижуёщомоъжщфеъёфоахжафъохеёакёркйофцфоящфоюмънкчомохёумлоъжщфеъёфоянюжбозжыяч ояёбёдёщоакёрщим ощоафефямъфокёбхчоещжънбарозозежшохбёкмъчоалмщоаоъёуоящндоаёбяжкомоалфыжбоъжоазёбйгзм обфяохёзечщим охеняоащёежпмщж огжземпжбоёъохёяхечумщжрохёобйянозёкёеч окефцжбохёяоъмюоащёежпмщж оземпжбоёъоъжоёенямфояфеымкобфяояфеыжбофуёоъёоуънбаромокефцжбомоёпфщмяъёолчбёопкёоъфокёбйзёохёяоёенямфюомбмокёбхё оъжеёяжоъёохёяоъмюоёяъмюоёъоаф пжаоендъфкароъжоъфуёоаюёкефбмомоыжбмайозолфефуноъфоефижрайофцфоакнхмкйоъжобфяозёюжъямеохёбзжоакёрщим ощфедёюонощтфгяжохёяърбоензномоежазечбоеёкоёлежцжрайозояёбёдёщнощяенуоёяъёомгоряфеокжзоъмгзёогжащмакфбёоъжяокёбхё опкёощафоъжуънбмайопкёокёоибфхънбёайощоюёзеёфомоуфъфежбонхжбоаобёижяйшощобнынозеёщмоъмзкёоъфощгубрънбоъжоуфъфежбжоъфохёянюжбохёяъркйофуёохёифбоъжобфяохёифбохёобйянохёифбощёеёкможбйоъфоабчимийохёифбощяенуохёабфоряежохёхжщифуёощоуфъфежбжохёабчижбмайолфапмабфъъчфоуёбёажоажюмоъфогъжропкёомогжп'"
      ]
     },
     "execution_count": 18,
     "metadata": {},
     "output_type": "execute_result"
    }
   ],
   "source": [
    "test_part_ru_encoded[:1000]"
   ]
  },
  {
   "cell_type": "code",
   "execution_count": 19,
   "metadata": {},
   "outputs": [
    {
     "data": {
      "text/plain": [
       "'irbxpdohymvipx imblmoxpiwpmamviohbrvpehosnpdohfrkmkpiqjipzh pdjzpjpohzjaizpcmmphcphcpiqmpxohnnpdohcrinpzh pkmorfmpcohwpiqmp nmphcpdohymvipx imblmoxpiwpehosnpvjav ajimkp nrbxpiqmpwmiqhkpzh pjaomjkzp nmpihpvjav ajimpzh opjddarvjlampijtmnpiqmpcmmprnphemkpihpiqmphebmophcpiqmpdohymvipx imblmoxpiwpiojkmwjospl ipqmpqjnpjxommkpihpkhbjimpohzjairmnp bkmopiqrnpdjojxojdqpihpiqmpdohymvipx imblmoxparimojozpjovqrfmpch bkjirhbpohzjaizpdjzwmbinpw niplmpdjrkperiqrbpkjznpchaaherbxpmjvqpkjimphbpeqrvqpzh pdomdjomphopjompamxjaazpomu romkpihpdomdjompzh opdmorhkrvpijtpomi obnpohzjaizpdjzwmbinpnqh akplmpvamjoazpwjosmkpjnpn vqpjbkpnmbipihpiqmpdohymvipx imblmoxparimojozpjovqrfmpch bkjirhbpjipiqmpjkkomnnpndmvrcrmkprbpnmvirhbprbchowjirhbpjlh ipkhbjirhbnpihpiqmpdohymvipx imblmoxparimojozpjovqrfmpch bkjirhbpzh pdohfrkmpjpc aapomc bkphcpjbzpwhbmzpdjrkplzpjp nmopeqhpbhircrmnpzh prbpeorirbxphoplzpmpwjraperiqrbpkjznphcpomvmrdipiqjipnpqmpkhmnpbhipjxommpihpiqmpimownphcpiqmpc aapdohymvipx imblmoxpiwparvmbnmpzh pw nipomu ro'"
      ]
     },
     "execution_count": 19,
     "metadata": {},
     "output_type": "execute_result"
    }
   ],
   "source": [
    "test_part_eng_encoded[:1000]"
   ]
  },
  {
   "cell_type": "markdown",
   "metadata": {},
   "source": [
    "Расшифруем их с помощью частотного метода:"
   ]
  },
  {
   "cell_type": "code",
   "execution_count": 20,
   "metadata": {},
   "outputs": [],
   "source": [
    "def decode_text_by_freq(text, freq_mapping):\n",
    "    char_cnt_encoded = Counter(text).most_common()\n",
    "    freq_mapping = freq_mapping.most_common()\n",
    "    mapping = {}\n",
    "    for i, (char, _) in enumerate(char_cnt_encoded):\n",
    "        mapping[char] = freq_mapping[i][0]\n",
    "    text_decoded = ''\n",
    "    for char in text:\n",
    "        text_decoded += mapping.get(char, UNKNOWN_SYMBOL)\n",
    "    return text_decoded, mapping"
   ]
  },
  {
   "cell_type": "code",
   "execution_count": 21,
   "metadata": {},
   "outputs": [],
   "source": [
    "test_part_ru_decoded, freq_mapping_ru = decode_text_by_freq(test_part_ru_encoded, char_cnt_ru)\n",
    "test_part_eng_decoded, freq_mapping_eng = decode_text_by_freq(test_part_eng_encoded, char_cnt_eng)"
   ]
  },
  {
   "cell_type": "code",
   "execution_count": 22,
   "metadata": {},
   "outputs": [
    {
     "data": {
      "text/plain": [
       "'сз сшетесз лроиптесз иаскотзко жегов н оуялз ослеиовнтесз уройлн юлн сло жегов н иевариоа суесаи урослоялз аэа два мнипль н уогнб иевариоа дпмет кешдьй дотохов слоявжнй в сарадниа лотуь рвеиптся к крец утолниь сбнв с иог двпх сотдел н сбашет ие скотзыкнй тад уокрьвжнй урпд своречнвей ыекрнчет ои уодурьгнвея уо тздп колорьй лраэет уод инм своречнвей крнчет ои ие орпдна даршнл тад даршет аго ио гиптся н лраэет н очавндио бьто чло иа лотзко уод орпднам нтн лотуой иероде ио уод инм одинм ои сайчес рпхиался ие иаго смолратн н шетнсз к барагп иа ражеясз аэа слпунлз ие тад комеиднр уотке слоявжнй вархом п вфаыде уодият рпкп н рескрьт рол обреэеясз к дотоховп вдрпг одио ны ядар лек иныко ыесвнслато иед лотуой чло вса иегиптнсз чло ло жтауиптосз в мокроа н гаиарет пует с тожедзц в тпшп кровн инкло иа выгтяипт ие гаиарете иа уодпмет уодиялз аго уожат ие тад уожат уо тздп уожат воролн етз иа стьжнжз уожат вдрпг уоста ядре уоуевжаго в гаиарете уостьжетнсз басчнстаииьа готосе семн иа ыиея чло н ыеч'"
      ]
     },
     "execution_count": 22,
     "metadata": {},
     "output_type": "execute_result"
    }
   ],
   "source": [
    "test_part_ru_decoded[:1000]"
   ]
  },
  {
   "cell_type": "code",
   "execution_count": 23,
   "metadata": {},
   "outputs": [
    {
     "data": {
      "text/plain": [
       "'tnhg woaxert gltehpeog tf euertoahnr baoks woavnded tmit yal wiy i oayiuty cee ac ac tme goass woacnts yal deonve coaf tme lse ac woaxert gltehpeog tf baoks riurluited lsnhg tme fetmad yal iuoeidy lse ta riurluite yalo iwwunripue tijes tme cee ns abed ta tme abheo ac tme woaxert gltehpeog tf toidefiok plt me mis igoeed ta dahite oayiutnes lhdeo tmns wioigoiwm ta tme woaxert gltehpeog unteoioy iormnve calhditnah oayiuty wiyfehts flst pe wind bntmnh diys cauuabnhg eirm dite ah bmnrm yal woewioe ao ioe uegiuuy oezlnoed ta woewioe yalo weonadnr tij oetlohs oayiuty wiyfehts smalud pe rueiouy fioked is slrm ihd seht ta tme woaxert gltehpeog unteoioy iormnve calhditnah it tme iddoess swerncned nh sertnah nhcaofitnah ipalt dahitnahs ta tme woaxert gltehpeog unteoioy iormnve calhditnah yal woavnde i cluu oeclhd ac ihy fahey wind py i lseo bma hatncnes yal nh bontnhg ao py e finu bntmnh diys ac oerenwt tmit s me daes hat igoee ta tme teofs ac tme cluu woaxert gltehpeog tf unrehse yal flst oezlno'"
      ]
     },
     "execution_count": 23,
     "metadata": {},
     "output_type": "execute_result"
    }
   ],
   "source": [
    "test_part_eng_decoded[:1000]"
   ]
  },
  {
   "cell_type": "markdown",
   "metadata": {},
   "source": [
    "Получилось что-то совсем нечитаемое :("
   ]
  },
  {
   "cell_type": "code",
   "execution_count": 24,
   "metadata": {},
   "outputs": [],
   "source": [
    "def get_metric(freq_mapping, decode_mapping):\n",
    "    chars_num = len(freq_mapping.keys())\n",
    "    chars_ok = 0\n",
    "    for k in freq_mapping.keys():\n",
    "        if freq_mapping[k] == decode_mapping[k]:\n",
    "            chars_ok += 1\n",
    "    return chars_ok / chars_num"
   ]
  },
  {
   "cell_type": "code",
   "execution_count": 25,
   "metadata": {},
   "outputs": [
    {
     "name": "stdout",
     "output_type": "stream",
     "text": [
      "RU corpus accuracy: 0.4117647058823529\n",
      "ENG corpus accuracy: 0.3333333333333333\n"
     ]
    }
   ],
   "source": [
    "print(f'RU corpus accuracy: {get_metric(freq_mapping_ru, decode_mapping_ru)}')\n",
    "print(f'ENG corpus accuracy: {get_metric(freq_mapping_eng, decode_mapping_eng)}')"
   ]
  },
  {
   "cell_type": "markdown",
   "metadata": {},
   "source": [
    "### Часть 2\n",
    "2.\tВряд ли в результате получилась такая уж хорошая расшифровка, разве что если вы брали в качестве тестовых данных целые рассказы. Но и Шерлок Холмс был не так уж прост: после буквы E, которая действительно выделяется частотой, дальше он анализировал уже конкретные слова и пытался угадать, какими они могли бы быть. Я не знаю, как запрограммировать такой интуитивный анализ, так что давайте просто сделаем следующий логический шаг:\n",
    "* подсчитайте частоты биграмм (т.е. пар последовательных букв) по корпусам;\n",
    "* проведите тестирование аналогично п.1, но при помощи биграмм (В качестве естественной метрики качества можно взять долю правильно расшифрованных букв или, если хочется совсем математически изощриться, расстояние между двумя перестановками, правильной и полученной из модели; но, честно говоря, в этом задании следить за численными метриками не так уж обязательно, будет и глазами всё видно)."
   ]
  },
  {
   "cell_type": "code",
   "execution_count": 26,
   "metadata": {},
   "outputs": [],
   "source": [
    "# здесь биграммы будем брать последовательно с шагом 2, т.е. 'война и мир ' -> ['во', 'йн', 'а ', 'и ', 'ми', 'р ']\n",
    "def get_bigrams(text):\n",
    "    return [text[i:i + 2] for i in range(0, len(text) - 1, 2)]"
   ]
  },
  {
   "cell_type": "code",
   "execution_count": 27,
   "metadata": {},
   "outputs": [],
   "source": [
    "bigrams_ru = get_bigrams(train_part_ru)\n",
    "bigram_cnt_ru = Counter(bigrams_ru).most_common()\n",
    "bigram_cnt_ru = {k[0] + k[1]: v for k, v in bigram_cnt_ru}\n",
    "\n",
    "bigrams_eng = get_bigrams(train_part_eng)\n",
    "bigram_cnt_eng = Counter(bigrams_eng).most_common()\n",
    "bigram_cnt_eng = {k[0] + k[1]: v for k, v in bigram_cnt_eng}"
   ]
  },
  {
   "cell_type": "code",
   "execution_count": 28,
   "metadata": {},
   "outputs": [
    {
     "data": {
      "text/plain": [
       "'айоаыжбжайокеёънбжайоъфазёбйзёоижуёщомоёхркйоёакжъёщмбжайохеё кмовкмоакёоижуёщомоъжщфеъёфоахжафъохеёакёркйофцфоящфоюмънкчомохёумлоъжщфеъёфоянюжбозжыяч ояёбёдёщоакёрщим ощоафефямъфокёбхчоещжънбарозозежшохбёкмъчоалмщоаоъёуоящндоаёбяжкомоалфыжбоъжоазёбйгзм обфяохёзечщим охеняоащёежпмщж огжземпжбоёъохёяхечумщжрохёобйянозёкёеч окефцжбохёяоъмюоащёежпмщж оземпжбоёъоъжоёенямфояфеымкобфяояфеыжбофуёоъёоуънбаромокефцжбомоёпфщмяъёолчбёопкёоъфокёбйзёохёяоёенямфюомбмокёбхё оъжеёяжоъёохёяоъмюоёяъмюоёъоаф пжаоендъфкароъжоъфуёоаюёкефбмомоыжбмайозолфефуноъфоефижрайофцфоакнхмкйоъжобфяозёюжъямеохёбзжоакёрщим ощфедёюонощтфгяжохёяърбоензномоежазечбоеёкоёлежцжрайозояёбёдёщнощяенуоёяъёомгоряфеокжзоъмгзёогжащмакфбёоъжяокёбхё опкёощафоъжуънбмайопкёокёоибфхънбёайощоюёзеёфомоуфъфежбонхжбоаобёижяйшощобнынозеёщмоъмзкёоъфощгубрънбоъжоуфъфежбжоъфохёянюжбохёяъркйофуёохёифбоъжобфяохёифбохёобйянохёифбощёеёкможбйоъфоабчимийохёифбощяенуохёабфоряежохёхжщифуёощоуфъфежбжохёабчижбмайолфапмабфъъчфоуёбёажоажюмоъфогъжропкёомогжп'"
      ]
     },
     "execution_count": 28,
     "metadata": {},
     "output_type": "execute_result"
    }
   ],
   "source": [
    "test_part_ru_encoded[:1000]"
   ]
  },
  {
   "cell_type": "code",
   "execution_count": 29,
   "metadata": {},
   "outputs": [
    {
     "data": {
      "text/plain": [
       "'irbxpdohymvipx imblmoxpiwpmamviohbrvpehosnpdohfrkmkpiqjipzh pdjzpjpohzjaizpcmmphcphcpiqmpxohnnpdohcrinpzh pkmorfmpcohwpiqmp nmphcpdohymvipx imblmoxpiwpehosnpvjav ajimkp nrbxpiqmpwmiqhkpzh pjaomjkzp nmpihpvjav ajimpzh opjddarvjlampijtmnpiqmpcmmprnphemkpihpiqmphebmophcpiqmpdohymvipx imblmoxpiwpiojkmwjospl ipqmpqjnpjxommkpihpkhbjimpohzjairmnp bkmopiqrnpdjojxojdqpihpiqmpdohymvipx imblmoxparimojozpjovqrfmpch bkjirhbpohzjaizpdjzwmbinpw niplmpdjrkperiqrbpkjznpchaaherbxpmjvqpkjimphbpeqrvqpzh pdomdjomphopjompamxjaazpomu romkpihpdomdjompzh opdmorhkrvpijtpomi obnpohzjaizpdjzwmbinpnqh akplmpvamjoazpwjosmkpjnpn vqpjbkpnmbipihpiqmpdohymvipx imblmoxparimojozpjovqrfmpch bkjirhbpjipiqmpjkkomnnpndmvrcrmkprbpnmvirhbprbchowjirhbpjlh ipkhbjirhbnpihpiqmpdohymvipx imblmoxparimojozpjovqrfmpch bkjirhbpzh pdohfrkmpjpc aapomc bkphcpjbzpwhbmzpdjrkplzpjp nmopeqhpbhircrmnpzh prbpeorirbxphoplzpmpwjraperiqrbpkjznphcpomvmrdipiqjipnpqmpkhmnpbhipjxommpihpiqmpimownphcpiqmpc aapdohymvipx imblmoxpiwparvmbnmpzh pw nipomu ro'"
      ]
     },
     "execution_count": 29,
     "metadata": {},
     "output_type": "execute_result"
    }
   ],
   "source": [
    "test_part_eng_encoded[:1000]"
   ]
  },
  {
   "cell_type": "code",
   "execution_count": 30,
   "metadata": {},
   "outputs": [],
   "source": [
    "def decode_text_by_bigrams(text, bigram_freq_mapping):\n",
    "    bigrams = get_bigrams(text)\n",
    "    bigram_cnt_encoded = Counter(bigrams).most_common()\n",
    "    bigram_cnt_encoded = {k[0] + k[1]: v for k, v in bigram_cnt_encoded}\n",
    "    \n",
    "    mapping = {}\n",
    "    for i, (char, _) in enumerate(list(bigram_cnt_encoded.items())):\n",
    "        mapping[char] = list(bigram_freq_mapping.items())[i][0]\n",
    "    text_decoded = ''\n",
    "    i = 0\n",
    "    while i <= (len(text) - 2):\n",
    "        text_decoded += mapping[text[i: i+2]]\n",
    "        i += 2\n",
    "    \n",
    "    return text_decoded"
   ]
  },
  {
   "cell_type": "code",
   "execution_count": 31,
   "metadata": {},
   "outputs": [],
   "source": [
    "test_part_ru_decoded = decode_text_by_bigrams(test_part_ru_encoded, bigram_cnt_ru)\n",
    "test_part_eng_decoded = decode_text_by_bigrams(test_part_eng_encoded, bigram_cnt_eng)"
   ]
  },
  {
   "cell_type": "code",
   "execution_count": 32,
   "metadata": {},
   "outputs": [
    {
     "data": {
      "text/plain": [
       "'ода тубыодонв лебыоди илнен неньдвол и кдлог кстлаолпрвсь ойтит льт а  нньдвол ии  ч ден в жвсло пв стажог улсть рлис жиеге я ысыбто рялестьаю онаепьк б зосездастажх ну са  дляс  в некегбалаош енанакаадтыорс егырмуа и ретьагит аафю  иа октуготоа нен чунуанля паячах ну пвысьияеревмуйстесоманягоал пу ойржмусп по н утнаорерусонм зьгоя ськоовияеревмуйснаманягоали ноергласть дикы восьылпя о уй и о ьяош е ионм зьгое уггаоченронно амо л онпоуло я сьергласовпре  нектии хоу ноен пу и ел крыел книымдявсазссл чиратои део р орм  т ият оинь риокм ыши  вм ихцеь лк встьекуь тоанлянавилагружя ьнностажх ну с дезовотижахми пу имговынц иазвсыйнназор квшщасподнатьпоеяолотешвыееу ен иг еб донсои брнетевсжест мо тось некти г н сыми двле тод г ноно убкрлеосод слиаяв  ве гдл кагоье оа андиемтя санряотыйоле коийо л  сцусвлегототало д онол  пу аю о пу имог уй  пди ми новосья  лгоя анюботя  лговев т арн и  впехашоь я  лгоешвыеея пе вебка пиз ч лй  стало д оноя пеха оинь окфринвосазотапоакноицмеи  всясп г н итеев'"
      ]
     },
     "execution_count": 32,
     "metadata": {},
     "output_type": "execute_result"
    }
   ],
   "source": [
    "test_part_ru_decoded[:1000]"
   ]
  },
  {
   "cell_type": "code",
   "execution_count": 33,
   "metadata": {},
   "outputs": [
    {
     "data": {
      "text/plain": [
       "'n im sy m  b dng oleve triachaso aad i hw  sy niroins renoou splhe ppistidonlyt toor tr  dy rs sy  vifnoouasanfoe nans tr urwat toofothathomershanitie i hw  rstupbeerineeenits e l s grnoouheflldslurwa t ntajuturee ssprheboesta ke usptd s e ece h t mpinse tr t skant tos e ofothathomershanitie ttiro lsiaingice trd elo f  t nmalier ppistn alurtean twhd dotiaypp ese tr  sy m  b dng olevemeedang hig ncfoe nearhon  a ppistid spll  md cucoaie doi  iedwh whou onfekiolima ov ehoert  wugad essunof ug e  hheo mespstew pdrbao inse so doo noouis yutgrad tp  pbuprow ppistid spll  md ckouafaie ivldlthi lsif hed oknchete f othse tr  sy m  b dng olevemeedang hig ncfoe nearhon  aheths e geefald huhakeosinen fhan  aatk  h ln  aheyongas are cow t ns e ofothathomershanitesertiamherrwhwionoutere c wssunofagi e lomiwe pdiarinorhefrde any silinv heurwaisug nlan  valnoouat wawedenit haihie  lwo iedwh whou t too llsuths re fice maalracaheayly t ns e erghd or tr ontu gofothathomershanitiemead owanooudeeetho ucrt'"
      ]
     },
     "execution_count": 33,
     "metadata": {},
     "output_type": "execute_result"
    }
   ],
   "source": [
    "test_part_eng_decoded[:1000]"
   ]
  },
  {
   "cell_type": "code",
   "execution_count": 34,
   "metadata": {},
   "outputs": [],
   "source": [
    "def get_metric(encoded_text, decoded_text, decode_mapping):\n",
    "    mapping = {}\n",
    "    for i in range(len(decoded_text)):\n",
    "        if not encoded_text[i] in mapping.keys():\n",
    "            mapping[encoded_text[i]] = decoded_text[i]\n",
    "    chars_num = len(mapping.keys())\n",
    "    chars_ok = 0\n",
    "    for k in mapping.keys():\n",
    "        if mapping[k] == decode_mapping[k]:\n",
    "            chars_ok += 1\n",
    "    return chars_ok / chars_num"
   ]
  },
  {
   "cell_type": "code",
   "execution_count": 35,
   "metadata": {},
   "outputs": [
    {
     "name": "stdout",
     "output_type": "stream",
     "text": [
      "RU corpus accuracy: 0.029411764705882353\n",
      "ENG corpus accuracy: 0.037037037037037035\n"
     ]
    }
   ],
   "source": [
    "print(f'RU corpus accuracy: {get_metric(test_part_ru_encoded, test_part_ru_decoded, decode_mapping_ru)}')\n",
    "print(f'ENG corpus accuracy: {get_metric(test_part_eng_encoded, test_part_eng_decoded, decode_mapping_eng)}')"
   ]
  },
  {
   "cell_type": "markdown",
   "metadata": {},
   "source": [
    "Чего-то с биграммами стало даже хуже. Видимо из-за того, что комбинаций биграмм в тестовом корпусе больше, чем одиночных символов. И длины тестового корпуса просто недостаточно, чтобы получить нормальную оценку частот."
   ]
  },
  {
   "cell_type": "markdown",
   "metadata": {},
   "source": [
    "### Часть 3\n",
    "3.\tНо и это ещё не всё: биграммы скорее всего тоже далеко не всегда работают. Основная часть задания — в том, как можно их улучшить:\n",
    "* предложите метод обучения перестановки символов в этом задании, основанный на MCMC-сэмплировании, но по-прежнему работающий на основе статистики биграмм;\n",
    "* реализуйте и протестируйте его, убедитесь, что результаты улучшились."
   ]
  },
  {
   "cell_type": "code",
   "execution_count": 36,
   "metadata": {},
   "outputs": [],
   "source": [
    "# здесь биграммы будем брать честно с шагом 1, т.е. 'война и мир ' -> ['во','ой','йн','на','а ',' и','и ',' м','ми','ир','р ']\n",
    "def get_bigrams(text):\n",
    "    return [text[i:i + 2] for i in range(0, len(text) - 1, 1)]"
   ]
  },
  {
   "cell_type": "code",
   "execution_count": 37,
   "metadata": {},
   "outputs": [],
   "source": [
    "def calc_score(text_decoded, bigram_cnt):    \n",
    "    bigrams = get_bigrams(text_decoded)\n",
    "    score = 0\n",
    "    for b in bigrams:\n",
    "        score += np.log(bigram_cnt.get(b, 1 / len(bigrams)))\n",
    "    return score"
   ]
  },
  {
   "cell_type": "code",
   "execution_count": 38,
   "metadata": {},
   "outputs": [],
   "source": [
    "def random_swap_chars(chars_list):\n",
    "    chars_list_local = chars_list[:]\n",
    "    ids_to_swap = np.random.choice(len(chars_list_local), size=2, replace=False)\n",
    "    chars_list_local[ids_to_swap[0]], chars_list_local[ids_to_swap[1]] = chars_list_local[ids_to_swap[1]], chars_list_local[ids_to_swap[0]]\n",
    "    return chars_list_local"
   ]
  },
  {
   "cell_type": "code",
   "execution_count": 39,
   "metadata": {},
   "outputs": [],
   "source": [
    "def decode_text_by_mapping(text, mapping):\n",
    "    text_decoded = ''\n",
    "    for char in text:\n",
    "        text_decoded += mapping.get(char, UNKNOWN_SYMBOL)\n",
    "    return text_decoded"
   ]
  },
  {
   "cell_type": "code",
   "execution_count": 40,
   "metadata": {},
   "outputs": [],
   "source": [
    "def get_ordered_chars(text):\n",
    "    text_encoded = text[:]\n",
    "    text_encoded_cnt = Counter(text_encoded).most_common()\n",
    "    text_encoded_chars_ord = [c for c, n in text_encoded_cnt]\n",
    "    return text_encoded_chars_ord"
   ]
  },
  {
   "cell_type": "code",
   "execution_count": 41,
   "metadata": {},
   "outputs": [],
   "source": [
    "def mcmc(train_part, test_encoded, iters, print_n):\n",
    "    best_score = -np.inf\n",
    "    best_mapping = None\n",
    "    train_chars_list = get_ordered_chars(train_part)\n",
    "    test_chars_list = get_ordered_chars(test_encoded)\n",
    "    \n",
    "    train_bigrams = get_bigrams(train_part)\n",
    "    train_bigrams_cnt = {}\n",
    "    for k, v in Counter(train_bigrams).items():\n",
    "        train_bigrams_cnt[k] = v\n",
    "        \n",
    "        \n",
    "    mapping = dict(zip(test_chars_list, train_chars_list))\n",
    "    text_decoded = decode_text_by_mapping(test_encoded, mapping)\n",
    "    score = calc_score(text_decoded, train_bigrams_cnt)\n",
    "    trained_chars = train_chars_list[:]\n",
    "    for i in tqdm(range(iters), leave=False):\n",
    "        trained_chars_new = random_swap_chars(trained_chars)\n",
    "        mapping_new = dict(zip(test_chars_list, trained_chars_new))\n",
    "        text_decoded_new = decode_text_by_mapping(test_encoded, mapping_new)\n",
    "        score_new = calc_score(text_decoded_new, train_bigrams_cnt)\n",
    "            \n",
    "        score_diff = min(np.exp(score_new - score), 1)  \n",
    "        if score_diff > random.uniform(0,1):\n",
    "            score = score_new\n",
    "            mapping = mapping_new\n",
    "            trained_chars = trained_chars_new[:]\n",
    "                    \n",
    "        if score > best_score:\n",
    "            best_score = score\n",
    "            best_mapping = mapping\n",
    "        if i % print_n == 0:\n",
    "            print(f'Iter: {i}, best_score: {best_score}')\n",
    "            res = decode_text_by_mapping(test_encoded, best_mapping)\n",
    "            print(res[:300])\n",
    "    return best_mapping"
   ]
  },
  {
   "cell_type": "code",
   "execution_count": 42,
   "metadata": {},
   "outputs": [
    {
     "data": {
      "application/vnd.jupyter.widget-view+json": {
       "model_id": "",
       "version_major": 2,
       "version_minor": 0
      },
      "text/plain": [
       "  0%|          | 0/10000 [00:00<?, ?it/s]"
      ]
     },
     "metadata": {},
     "output_type": "display_data"
    },
    {
     "name": "stdout",
     "output_type": "stream",
     "text": [
      "Iter: 0, best_score: 62387.50281005873\n",
      "сз сшетесз лроиптесз иаскотзко жегов н оуялз ослеиовнтесз уройлн юлн сло жегов н иевариоа суесаи урослоялз аэа два мнипль н уогнб иевариоа дпмет кешдьй дотохов слоявжнй в сарадниа лотуь рвеиптся к крец утолниь сбнв с иог двпх сотдел н сбашет ие скотзыкнй тад уокрьвжнй урпд своречнвей ыекрнчет ои уод\n",
      "Iter: 1000, best_score: 74770.892023881\n",
      "сь сжатась лронутась нескотько шапов и огяль ослановитась гройли фли сло шапов и наверное сгасен грослояль еце две минулы и гопиб наверное думат каждый дотоюов слоявший в середине лотгы рванутся к крах гтолины сбив с ноп двую сотдал и сбежат на скотьзкий тед гокрывший груд сворачивай закричат он год\n",
      "Iter: 2000, best_score: 76263.88479827881\n",
      "сь сжатась лронутась нескотько шагов и опяль ослановитась пройли эли сло шагов и наверное спасен прослояль еще две минулы и погиб наверное думат каждый дотоцов слоявший в середине лотпы рванутся к крах птолины сбив с ног двуц сотдал и сбежат на скотьзкий тед покрывший пруд сворачивай закричат он под\n",
      "Iter: 3000, best_score: 78527.06688897024\n",
      "сь сжалась тронулась несколько шагов и опять остановилась пройти эти сто шагов и наверное спасен простоять еще две минуты и погиб наверное думал каждый долохов стоявший в середине толпы рванулся к краю плотины сбив с ног двух солдат и сбежал на скользкий лед покрывший пруд сворачивай закричал он под\n",
      "Iter: 4000, best_score: 78527.06688897024\n",
      "сь сжалась тронулась несколько шагов и опять остановилась пройти эти сто шагов и наверное спасен простоять еще две минуты и погиб наверное думал каждый долохов стоявший в середине толпы рванулся к краю плотины сбив с ног двух солдат и сбежал на скользкий лед покрывший пруд сворачивай закричал он под\n",
      "Iter: 5000, best_score: 78527.06688897024\n",
      "сь сжалась тронулась несколько шагов и опять остановилась пройти эти сто шагов и наверное спасен простоять еще две минуты и погиб наверное думал каждый долохов стоявший в середине толпы рванулся к краю плотины сбив с ног двух солдат и сбежал на скользкий лед покрывший пруд сворачивай закричал он под\n",
      "Iter: 6000, best_score: 78527.06688897024\n",
      "сь сжалась тронулась несколько шагов и опять остановилась пройти эти сто шагов и наверное спасен простоять еще две минуты и погиб наверное думал каждый долохов стоявший в середине толпы рванулся к краю плотины сбив с ног двух солдат и сбежал на скользкий лед покрывший пруд сворачивай закричал он под\n",
      "Iter: 7000, best_score: 78527.06688897024\n",
      "сь сжалась тронулась несколько шагов и опять остановилась пройти эти сто шагов и наверное спасен простоять еще две минуты и погиб наверное думал каждый долохов стоявший в середине толпы рванулся к краю плотины сбив с ног двух солдат и сбежал на скользкий лед покрывший пруд сворачивай закричал он под\n",
      "Iter: 8000, best_score: 78527.06688897024\n",
      "сь сжалась тронулась несколько шагов и опять остановилась пройти эти сто шагов и наверное спасен простоять еще две минуты и погиб наверное думал каждый долохов стоявший в середине толпы рванулся к краю плотины сбив с ног двух солдат и сбежал на скользкий лед покрывший пруд сворачивай закричал он под\n",
      "Iter: 9000, best_score: 78527.06688897024\n",
      "сь сжалась тронулась несколько шагов и опять остановилась пройти эти сто шагов и наверное спасен простоять еще две минуты и погиб наверное думал каждый долохов стоявший в середине толпы рванулся к краю плотины сбив с ног двух солдат и сбежал на скользкий лед покрывший пруд сворачивай закричал он под\n",
      "CPU times: user 4min 16s, sys: 6.48 s, total: 4min 22s\n",
      "Wall time: 4min 37s\n"
     ]
    }
   ],
   "source": [
    "%%time\n",
    "mcmc_mapping_ru = mcmc(train_part_ru, test_part_ru_encoded, 10000, 1000)"
   ]
  },
  {
   "cell_type": "code",
   "execution_count": 43,
   "metadata": {},
   "outputs": [
    {
     "name": "stdout",
     "output_type": "stream",
     "text": [
      "RU accuracy: 1.0\n"
     ]
    }
   ],
   "source": [
    "test_part_ru_decoded_mcmc = decode_text_by_mapping(test_part_ru_encoded, mcmc_mapping_ru)\n",
    "print(f'RU accuracy: {get_metric(test_part_ru_encoded, test_part_ru_decoded_mcmc, decode_mapping_ru)}')"
   ]
  },
  {
   "cell_type": "code",
   "execution_count": 44,
   "metadata": {},
   "outputs": [
    {
     "data": {
      "text/plain": [
       "'сь сжалась тронулась несколько шагов и опять остановилась пройти эти сто шагов и наверное спасен простоять еще две минуты и погиб наверное думал каждый долохов стоявший в середине толпы рванулся к краю плотины сбив с ног двух солдат и сбежал на скользкий лед покрывший пруд сворачивай закричал он подпрыгивая по льду который трещал под ним сворачивай кричал он на орудие держит лед держал его но гнулся и трещал и очевидно было что не только под орудием или толпой народа но под ним одним он сейчас рухнется на него смотрели и жались к берегу не решаясь еще ступить на лед командир полка стоявший верхом у въезда поднял руку и раскрыл рот обращаясь к долохову вдруг одно из ядер так низко засвистело над толпой что все нагнулись что то шлепнулось в мокрое и генерал упал с лошадью в лужу крови никто не взглянул на генерала не подумал поднять его пошел на лед пошел по льду пошел вороти аль не слышишь пошел вдруг после ядра попавшего в генерала послышались бесчисленные голоса сами не зная что и зач'"
      ]
     },
     "execution_count": 44,
     "metadata": {},
     "output_type": "execute_result"
    }
   ],
   "source": [
    "test_part_ru_decoded_mcmc[:1000]"
   ]
  },
  {
   "cell_type": "code",
   "execution_count": 45,
   "metadata": {},
   "outputs": [
    {
     "data": {
      "application/vnd.jupyter.widget-view+json": {
       "model_id": "",
       "version_major": 2,
       "version_minor": 0
      },
      "text/plain": [
       "  0%|          | 0/10000 [00:00<?, ?it/s]"
      ]
     },
     "metadata": {},
     "output_type": "display_data"
    },
    {
     "name": "stdout",
     "output_type": "stream",
     "text": [
      "Iter: 0, best_score: 81808.32521967954\n",
      "tnhg woaxert gltehpeog tf euertoahnr baoks woavnded tmit yal wiy i oayiuty cee ac ac tme goass woacnts yal deonve coaf tme lse ac woaxert gltehpeog tf baoks riurluited lsnhg tme fetmad yal iuoeidy lse ta riurluite yalo iwwunripue tijes tme cee ns abed ta tme abheo ac tme woaxert gltehpeog tf toidefi\n",
      "Iter: 1000, best_score: 93452.88559296026\n",
      "tinm prokect mutenberm tl esectronic worzd provigeg that you pay a royasty fee of of the mrodd profitd you gerive frol the ude of prokect mutenberm tl worzd cascusateg udinm the lethog you asreagy ude to cascusate your appsicabse taxed the fee id oweg to the owner of the prokect mutenberm tl tragela\n",
      "Iter: 2000, best_score: 94747.04432847198\n",
      "tind prozect dutenberd tm electronic works provigeg that you pay a royalty fee of of the dross profits you gerive from the use of prozect dutenberd tm works calculateg usind the methog you alreagy use to calculate your applicable taxes the fee is oweg to the owner of the prozect dutenberd tm tragema\n",
      "Iter: 3000, best_score: 95081.76143892422\n",
      "ting prozect gutenberg tm electronic works provided that you pay a royalty fee of of the gross profits you derive from the use of prozect gutenberg tm works calculated using the method you already use to calculate your applicable taxes the fee is owed to the owner of the prozect gutenberg tm tradema\n",
      "Iter: 4000, best_score: 95081.76143892422\n",
      "ting prozect gutenberg tm electronic works provided that you pay a royalty fee of of the gross profits you derive from the use of prozect gutenberg tm works calculated using the method you already use to calculate your applicable taxes the fee is owed to the owner of the prozect gutenberg tm tradema\n",
      "Iter: 5000, best_score: 95081.76143892422\n",
      "ting prozect gutenberg tm electronic works provided that you pay a royalty fee of of the gross profits you derive from the use of prozect gutenberg tm works calculated using the method you already use to calculate your applicable taxes the fee is owed to the owner of the prozect gutenberg tm tradema\n",
      "Iter: 6000, best_score: 95081.76143892422\n",
      "ting prozect gutenberg tm electronic works provided that you pay a royalty fee of of the gross profits you derive from the use of prozect gutenberg tm works calculated using the method you already use to calculate your applicable taxes the fee is owed to the owner of the prozect gutenberg tm tradema\n",
      "Iter: 7000, best_score: 95081.76143892422\n",
      "ting prozect gutenberg tm electronic works provided that you pay a royalty fee of of the gross profits you derive from the use of prozect gutenberg tm works calculated using the method you already use to calculate your applicable taxes the fee is owed to the owner of the prozect gutenberg tm tradema\n",
      "Iter: 8000, best_score: 95081.76143892422\n",
      "ting prozect gutenberg tm electronic works provided that you pay a royalty fee of of the gross profits you derive from the use of prozect gutenberg tm works calculated using the method you already use to calculate your applicable taxes the fee is owed to the owner of the prozect gutenberg tm tradema\n",
      "Iter: 9000, best_score: 95081.76143892422\n",
      "ting prozect gutenberg tm electronic works provided that you pay a royalty fee of of the gross profits you derive from the use of prozect gutenberg tm works calculated using the method you already use to calculate your applicable taxes the fee is owed to the owner of the prozect gutenberg tm tradema\n",
      "CPU times: user 3min 53s, sys: 5.57 s, total: 3min 59s\n",
      "Wall time: 4min 8s\n"
     ]
    }
   ],
   "source": [
    "%%time\n",
    "mcmc_mapping_eng = mcmc(train_part_eng, test_part_eng_encoded, 10000, 1000)"
   ]
  },
  {
   "cell_type": "code",
   "execution_count": 46,
   "metadata": {},
   "outputs": [
    {
     "name": "stdout",
     "output_type": "stream",
     "text": [
      "ENG accuracy: 0.9259259259259259\n"
     ]
    }
   ],
   "source": [
    "test_part_eng_decoded_mcmc = decode_text_by_mapping(test_part_eng_encoded, mcmc_mapping_eng)\n",
    "print(f'ENG accuracy: {get_metric(test_part_eng_encoded, test_part_eng_decoded_mcmc, decode_mapping_eng)}')"
   ]
  },
  {
   "cell_type": "code",
   "execution_count": 47,
   "metadata": {},
   "outputs": [
    {
     "data": {
      "text/plain": [
       "'ting prozect gutenberg tm electronic works provided that you pay a royalty fee of of the gross profits you derive from the use of prozect gutenberg tm works calculated using the method you already use to calculate your applicable taxes the fee is owed to the owner of the prozect gutenberg tm trademark but he has agreed to donate royalties under this paragraph to the prozect gutenberg literary archive foundation royalty payments must be paid within days following each date on which you prepare or are legally required to prepare your periodic tax returns royalty payments should be clearly marked as such and sent to the prozect gutenberg literary archive foundation at the address specified in section information about donations to the prozect gutenberg literary archive foundation you provide a full refund of any money paid by a user who notifies you in writing or by e mail within days of receipt that s he does not agree to the terms of the full prozect gutenberg tm license you must requir'"
      ]
     },
     "execution_count": 47,
     "metadata": {},
     "output_type": "execute_result"
    }
   ],
   "source": [
    "test_part_eng_decoded_mcmc[:1000]"
   ]
  },
  {
   "cell_type": "markdown",
   "metadata": {},
   "source": [
    "### Часть 4\n",
    "4.\tРасшифруйте сообщение:<br>\n",
    "←⇠⇒↟↹↷⇊↹↷↟↤↟↨←↹↝⇛⇯↳⇴⇒⇈↝⇊↾↹↟⇒↟↹⇷⇛⇞↨↟↹↝⇛⇯↳⇴⇒⇈↝⇊↾↹↨←⇌⇠↨↹⇙↹⇸↨⇛↙⇛↹⇠⇛⇛↲⇆←↝↟↞↹⇌⇛↨⇛⇯⇊↾↹⇒←↙⇌⇛↹⇷⇯⇛⇞↟↨⇴↨⇈↹⇠⇌⇛⇯←←↹↷⇠←↙⇛↹↷⇊↹↷⇠←↹⇠↤←⇒⇴⇒↟↹⇷⇯⇴↷↟⇒⇈↝⇛↹↟↹⇷⇛⇒⇙⇞↟↨←↹↳⇴⇌⇠↟↳⇴⇒⇈↝⇊↾↹↲⇴⇒⇒↹⇰⇴↹⇷⇛⇠⇒←↤↝←←↹⇞←↨↷←⇯↨⇛←↹⇰⇴↤⇴↝↟←↹⇌⇙⇯⇠⇴↹↘⇛↨↞↹⇌⇛↝←⇞↝⇛↹↞↹↝↟⇞←↙⇛↹↝←↹⇛↲←⇆⇴⇏\n",
    "<br><br>\n",
    "Или это (они одинаковые, второй вариант просто на случай проблем с юникодом):<br>\n",
    "დჳჵჂႨშႼႨშჂხჂჲდႨსႹႭჾႣჵისႼჰႨჂჵჂႨႲႹႧჲჂႨსႹႭჾႣჵისႼჰႨჲდႩჳჲႨჇႨႠჲႹქႹႨჳႹႹჱჶდსჂႽႨႩႹჲႹႭႼჰႨჵდქႩႹႨႲႭႹႧჂჲႣჲიႨჳႩႹႭდდႨშჳდქႹႨშႼႨშჳდႨჳხდჵႣჵჂႨႲႭႣშჂჵისႹႨჂႨႲႹჵჇႧჂჲდႨჾႣႩჳჂჾႣჵისႼჰႨჱႣჵჵႨეႣႨႲႹჳჵდხსდდႨႧდჲშდႭჲႹდႨეႣხႣსჂდႨႩჇႭჳႣႨႾႹჲႽႨႩႹსდႧსႹႨႽႨსჂႧდქႹႨსდႨႹჱდჶႣნ\n",
    "<br><br>"
   ]
  },
  {
   "cell_type": "code",
   "execution_count": 48,
   "metadata": {},
   "outputs": [],
   "source": [
    "text_encoded = 'დჳჵჂႨშႼႨშჂხჂჲდႨსႹႭჾႣჵისႼჰႨჂჵჂႨႲႹႧჲჂႨსႹႭჾႣჵისႼჰႨჲდႩჳჲႨჇႨႠჲႹქႹႨჳႹႹჱჶდსჂႽႨႩႹჲႹႭႼჰႨჵდქႩႹႨႲႭႹႧჂჲႣჲიႨჳႩႹႭდდႨშჳდქႹႨშႼႨშჳდႨჳხდჵႣჵჂႨႲႭႣშჂჵისႹႨჂႨႲႹჵჇႧჂჲდႨჾႣႩჳჂჾႣჵისႼჰႨჱႣჵჵႨეႣႨႲႹჳჵდხსდდႨႧდჲშდႭჲႹდႨეႣხႣსჂდႨႩჇႭჳႣႨႾႹჲႽႨႩႹსდႧსႹႨႽႨსჂႧდქႹႨსდႨႹჱდჶႣნ'"
   ]
  },
  {
   "cell_type": "markdown",
   "metadata": {},
   "source": [
    "Увеличим тренировочный корпус."
   ]
  },
  {
   "cell_type": "code",
   "execution_count": 49,
   "metadata": {},
   "outputs": [
    {
     "name": "stdout",
     "output_type": "stream",
     "text": [
      "corpus_rus: 2531074\n",
      "\n",
      "Before prep:\n",
      " Annotation\n",
      "\n",
      "\n",
      "\t\"Война и мир\" – самый известный роман Льва Николаевича Толстого, как никакое другое произведение писателя, отражает глубину его мироощущения и философии.\tЭта книга из разряда вечных, пот\n",
      "\n",
      "After prep:\n",
      " война и мир самый известный роман льва николаевича толстого как никакое другое произведение писателя отражает глубину его мироощущения и философии эта книга из разряда вечных потому что она обо всем о\n",
      "\n"
     ]
    }
   ],
   "source": [
    "with open('hw3_data/corpora/WarAndPeace.txt', 'r') as f_ru_1, open('hw3_data/corpora/AnnaKarenina.txt', 'r') as f_ru_2:\n",
    "    war_and_peace = f_ru_1.read()\n",
    "    anna_karenina = f_ru_2.read()\n",
    "    corpus_rus = war_and_peace + ' ' + anna_karenina\n",
    "\n",
    "print(f'corpus_rus: {len(corpus_rus)}\\n')\n",
    "print(f'Before prep:\\n {corpus_rus[:200]}\\n')\n",
    "corpus_rus = re.sub(r'[^а-яё ]', ' ', corpus_rus.lower())\n",
    "corpus_rus = re.sub(r'\\s+', ' ', corpus_rus)\n",
    "corpus_rus = corpus_rus[1:]\n",
    "print(f'After prep:\\n {corpus_rus[:200]}\\n')"
   ]
  },
  {
   "cell_type": "code",
   "execution_count": 50,
   "metadata": {},
   "outputs": [
    {
     "data": {
      "application/vnd.jupyter.widget-view+json": {
       "model_id": "",
       "version_major": 2,
       "version_minor": 0
      },
      "text/plain": [
       "  0%|          | 0/500000 [00:00<?, ?it/s]"
      ]
     },
     "metadata": {},
     "output_type": "display_data"
    },
    {
     "name": "stdout",
     "output_type": "stream",
     "text": [
      "Iter: 0, best_score: 1668.6899092601122\n",
      "олна рд раяасо иевьтнуидг ана пемса иевьтнуидг соклс б шсеые леезжоиач кесевдг ноыке пвемастсу лкевоо рлоые рд рло ляонтна пвтрануие а пенбмасо ьтклаьтнуидг зтнн йт пелнояиоо мосровсео йтятиао кбвлт хесч кеиомие ч иамоые ио езожтю\n",
      "Iter: 100000, best_score: 2116.64656639883\n",
      "если вы вимите нордальный или почти нордальный текст у этого сообщения который легко прочитать скорее всего вы все смелали правильно и получите даксидальный балл за послемнее четвертое замание курса хотя конечно я ничего не обещаж\n",
      "Iter: 200000, best_score: 2116.64656639883\n",
      "если вы вимите нордальный или почти нордальный текст у этого сообщения который легко прочитать скорее всего вы все смелали правильно и получите даксидальный балл за послемнее четвертое замание курса хотя конечно я ничего не обещаж\n",
      "Iter: 300000, best_score: 2116.64656639883\n",
      "если вы вимите нордальный или почти нордальный текст у этого сообщения который легко прочитать скорее всего вы все смелали правильно и получите даксидальный балл за послемнее четвертое замание курса хотя конечно я ничего не обещаж\n",
      "Iter: 400000, best_score: 2116.64656639883\n",
      "если вы вимите нордальный или почти нордальный текст у этого сообщения который легко прочитать скорее всего вы все смелали правильно и получите даксидальный балл за послемнее четвертое замание курса хотя конечно я ничего не обещаж\n",
      "CPU times: user 4min 31s, sys: 7.23 s, total: 4min 39s\n",
      "Wall time: 4min 38s\n"
     ]
    }
   ],
   "source": [
    "%%time\n",
    "mcmc_mapping = mcmc(corpus_rus, text_encoded, 500000, 100000)"
   ]
  },
  {
   "cell_type": "code",
   "execution_count": 51,
   "metadata": {},
   "outputs": [
    {
     "data": {
      "text/plain": [
       "'დჳჵჂႨშႼႨშჂხჂჲდႨსႹႭჾႣჵისႼჰႨჂჵჂႨႲႹႧჲჂႨსႹႭჾႣჵისႼჰႨჲდႩჳჲႨჇႨႠჲႹქႹႨჳႹႹჱჶდსჂႽႨႩႹჲႹႭႼჰႨჵდქႩႹႨႲႭႹႧჂჲႣჲიႨჳႩႹႭდდႨშჳდქႹႨშႼႨშჳდႨჳხდჵႣჵჂႨႲႭႣშჂჵისႹႨჂႨႲႹჵჇႧჂჲდႨჾႣႩჳჂჾႣჵისႼჰႨჱႣჵჵႨეႣႨႲႹჳჵდხსდდႨႧდჲშდႭჲႹდႨეႣხႣსჂდႨႩჇႭჳႣႨႾႹჲႽႨႩႹსდႧსႹႨႽႨსჂႧდქႹႨსდႨႹჱდჶႣნ'"
      ]
     },
     "execution_count": 51,
     "metadata": {},
     "output_type": "execute_result"
    }
   ],
   "source": [
    "text_encoded"
   ]
  },
  {
   "cell_type": "code",
   "execution_count": 52,
   "metadata": {},
   "outputs": [
    {
     "data": {
      "text/plain": [
       "'если вы вимите нордальный или почти нордальный текст у этого сообщения который легко прочитать скорее всего вы все смелали правильно и получите даксидальный балл за послемнее четвертое замание курса хотя конечно я ничего не обещаж'"
      ]
     },
     "execution_count": 52,
     "metadata": {},
     "output_type": "execute_result"
    }
   ],
   "source": [
    "text_decoded_mcmc = decode_text_by_mapping(text_encoded, mcmc_mapping)\n",
    "text_decoded_mcmc"
   ]
  },
  {
   "cell_type": "markdown",
   "metadata": {},
   "source": [
    "### Часть 5\n",
    "5.\tБонус: а что если от биграмм перейти к триграммам (тройкам букв) или даже больше? Улучшатся ли результаты? Когда улучшатся, а когда нет? Чтобы ответить на этот вопрос эмпирически, уже может понадобиться погенерировать много тестовых перестановок и последить за метриками, глазами может быть и не видно."
   ]
  },
  {
   "cell_type": "code",
   "execution_count": 53,
   "metadata": {},
   "outputs": [],
   "source": [
    "def get_trigrams(text):\n",
    "    return [text[i:i + 3] for i in range(0, len(text) - 1, 1)]"
   ]
  },
  {
   "cell_type": "code",
   "execution_count": 61,
   "metadata": {},
   "outputs": [],
   "source": [
    "def calc_score_for_trigrams(text_decoded, trigram_cnt):    \n",
    "    trigrams = get_trigrams(text_decoded)\n",
    "    score = 0\n",
    "    for b in trigrams:\n",
    "        score += np.log(trigram_cnt.get(b, 1 / len(trigrams)))\n",
    "    return score"
   ]
  },
  {
   "cell_type": "code",
   "execution_count": 62,
   "metadata": {},
   "outputs": [],
   "source": [
    "def mcmc_trigrams(train_part, test_encoded, iters, print_n):\n",
    "    best_score = -np.inf\n",
    "    best_mapping = None\n",
    "    train_chars_list = get_ordered_chars(train_part)\n",
    "    test_chars_list = get_ordered_chars(test_encoded)\n",
    "    \n",
    "    train_trigrams = get_trigrams(train_part)\n",
    "    train_trigrams_cnt = {}\n",
    "    for k, v in Counter(train_trigrams).items():\n",
    "        train_trigrams_cnt[k] = v\n",
    "        \n",
    "        \n",
    "    mapping = dict(zip(test_chars_list, train_chars_list))\n",
    "    text_decoded = decode_text_by_mapping(test_encoded, mapping)\n",
    "    score = calc_score_for_trigrams(text_decoded, train_trigrams_cnt)\n",
    "    trained_chars = train_chars_list[:]\n",
    "    for i in tqdm(range(iters), leave=False):\n",
    "        trained_chars_new = random_swap_chars(trained_chars)\n",
    "        mapping_new = dict(zip(test_chars_list, trained_chars_new))\n",
    "        text_decoded_new = decode_text_by_mapping(test_encoded, mapping_new)\n",
    "        score_new = calc_score_for_trigrams(text_decoded_new, train_trigrams_cnt)\n",
    "            \n",
    "        score_diff = min(np.exp(score_new - score), 1)  \n",
    "        if score_diff > random.uniform(0,1):\n",
    "            score = score_new\n",
    "            mapping = mapping_new\n",
    "            trained_chars = trained_chars_new[:]\n",
    "                    \n",
    "        if score > best_score:\n",
    "            best_score = score\n",
    "            best_mapping = mapping\n",
    "        if i % print_n == 0:\n",
    "            print(f'Iter: {i}, best_score: {best_score}')\n",
    "            res = decode_text_by_mapping(test_encoded, best_mapping)\n",
    "            print(res[:300])\n",
    "    return best_mapping"
   ]
  },
  {
   "cell_type": "code",
   "execution_count": 63,
   "metadata": {},
   "outputs": [
    {
     "data": {
      "application/vnd.jupyter.widget-view+json": {
       "model_id": "",
       "version_major": 2,
       "version_minor": 0
      },
      "text/plain": [
       "  0%|          | 0/10000 [00:00<?, ?it/s]"
      ]
     },
     "metadata": {},
     "output_type": "display_data"
    },
    {
     "name": "stdout",
     "output_type": "stream",
     "text": [
      "Iter: 0, best_score: 1034.5192530887946\n",
      "сз сшетесз лроиптесз иаскотзко жегов н оуялз ослеиовнтесз уройлн юлн сло жегов н иевариоа суесаи урослоялз аэа два мнипль н уогнб иевариоа дпмет кешдьй дотохов слоявжнй в сарадниа лотуь рвеиптся к крец утолниь сбнв с иог двпх сотдел н сбашет ие скотзыкнй тад уокрьвжнй урпд своречнвей ыекрнчет ои уод\n",
      "Iter: 1000, best_score: 36448.00387427912\n",
      "сы сжаласы кноруласы рестолыто шагов и опюкы оскаровиласы пнойки эки ско шагов и равенрое спасер пноскоюкы еще две мирукя и погих равенрое думал таждяй долобов скоювший в сенедире колпя нварулсю т тнац плокиря схив с рог двуб солдак и схежал ра столызтий лед потнявший пнуд своначивай затничал ор под\n",
      "Iter: 2000, best_score: 49963.707739420395\n",
      "сь сжалась тронулась несколько шагов и опять остановилась пройти эти сто шагов и наверное спасен простоять еще две минутю и погих наверное думал каждюй долобов стоявший в середине толпю рванулся к краы плотиню схив с ног двуб солдат и схежал на скользкий лед покрювший пруд сворачивай закричал он под\n",
      "Iter: 3000, best_score: 49963.707739420395\n",
      "сь сжалась тронулась несколько шагов и опять остановилась пройти эти сто шагов и наверное спасен простоять еще две минутю и погих наверное думал каждюй долобов стоявший в середине толпю рванулся к краы плотиню схив с ног двуб солдат и схежал на скользкий лед покрювший пруд сворачивай закричал он под\n",
      "Iter: 4000, best_score: 54916.26029831598\n",
      "сь сжалась тронулась несколько шагов и опять остановилась пройти эти сто шагов и наверное спасен простоять еще две минуты и погих наверное думал каждый долобов стоявший в середине толпы рванулся к краю плотины схив с ног двуб солдат и схежал на скользкий лед покрывший пруд сворачивай закричал он под\n",
      "Iter: 5000, best_score: 54916.26029831598\n",
      "сь сжалась тронулась несколько шагов и опять остановилась пройти эти сто шагов и наверное спасен простоять еще две минуты и погих наверное думал каждый долобов стоявший в середине толпы рванулся к краю плотины схив с ног двуб солдат и схежал на скользкий лед покрывший пруд сворачивай закричал он под\n",
      "Iter: 6000, best_score: 58124.26832567885\n",
      "сь сжалась тронулась несколько шагов и опять остановилась пройти эти сто шагов и наверное спасен простоять еще две минуты и погиб наверное думал каждый долохов стоявший в середине толпы рванулся к краю плотины сбив с ног двух солдат и сбежал на скользкий лед покрывший пруд сворачивай закричал он под\n",
      "Iter: 7000, best_score: 58124.26832567885\n",
      "сь сжалась тронулась несколько шагов и опять остановилась пройти эти сто шагов и наверное спасен простоять еще две минуты и погиб наверное думал каждый долохов стоявший в середине толпы рванулся к краю плотины сбив с ног двух солдат и сбежал на скользкий лед покрывший пруд сворачивай закричал он под\n",
      "Iter: 8000, best_score: 58124.26832567885\n",
      "сь сжалась тронулась несколько шагов и опять остановилась пройти эти сто шагов и наверное спасен простоять еще две минуты и погиб наверное думал каждый долохов стоявший в середине толпы рванулся к краю плотины сбив с ног двух солдат и сбежал на скользкий лед покрывший пруд сворачивай закричал он под\n",
      "Iter: 9000, best_score: 58124.26832567885\n",
      "сь сжалась тронулась несколько шагов и опять остановилась пройти эти сто шагов и наверное спасен простоять еще две минуты и погиб наверное думал каждый долохов стоявший в середине толпы рванулся к краю плотины сбив с ног двух солдат и сбежал на скользкий лед покрывший пруд сворачивай закричал он под\n",
      "CPU times: user 4min 5s, sys: 5.65 s, total: 4min 10s\n",
      "Wall time: 4min 20s\n"
     ]
    }
   ],
   "source": [
    "%%time\n",
    "mcmc_mapping_ru = mcmc_trigrams(train_part_ru, test_part_ru_encoded, 10000, 1000)"
   ]
  },
  {
   "cell_type": "code",
   "execution_count": 64,
   "metadata": {},
   "outputs": [
    {
     "name": "stdout",
     "output_type": "stream",
     "text": [
      "RU accuracy: 1.0\n"
     ]
    }
   ],
   "source": [
    "test_part_ru_decoded_mcmc = decode_text_by_mapping(test_part_ru_encoded, mcmc_mapping_ru)\n",
    "print(f'RU accuracy: {get_metric(test_part_ru_encoded, test_part_ru_decoded_mcmc, decode_mapping_ru)}')"
   ]
  },
  {
   "cell_type": "code",
   "execution_count": 65,
   "metadata": {},
   "outputs": [
    {
     "data": {
      "application/vnd.jupyter.widget-view+json": {
       "model_id": "",
       "version_major": 2,
       "version_minor": 0
      },
      "text/plain": [
       "  0%|          | 0/10000 [00:00<?, ?it/s]"
      ]
     },
     "metadata": {},
     "output_type": "display_data"
    },
    {
     "name": "stdout",
     "output_type": "stream",
     "text": [
      "Iter: 0, best_score: 15762.033983536598\n",
      "tnhg woaxert gltehpeog tf euertoahnr baoks woavnded tmit yal wiy i oayiuty cee ac ac tme goass woacnts yal deonve coaf tme lse ac woaxert gltehpeog tf baoks riurluited lsnhg tme fetmad yal iuoeidy lse ta riurluite yalo iwwunripue tijes tme cee ns abed ta tme abheo ac tme woaxert gltehpeog tf toidefi\n",
      "Iter: 1000, best_score: 61153.577723730225\n",
      "tinc prazelt cutenberc tm efeltranil warks pravided thot yau poy o rayofty gee ag ag the crass pragits yau derive gram the use ag prazelt cutenberc tm warks loflufoted usinc the methad yau ofreody use ta loflufote yaur oppfilobfe toxes the gee is awed ta the awner ag the prazelt cutenberc tm trodemo\n",
      "Iter: 2000, best_score: 73032.53080703488\n",
      "ting prozect gutenberg tm electronic works provided that you pay a royalty fee of of the gross profits you derive from the use of prozect gutenberg tm works calculated using the method you already use to calculate your applicable taxes the fee is owed to the owner of the prozect gutenberg tm tradema\n",
      "Iter: 3000, best_score: 73396.66101321064\n",
      "ting project gutenberg tm electronic works provided that you pay a royalty fee of of the gross profits you derive from the use of project gutenberg tm works calculated using the method you already use to calculate your applicable taxes the fee is owed to the owner of the project gutenberg tm tradema\n",
      "Iter: 4000, best_score: 73396.66101321064\n",
      "ting project gutenberg tm electronic works provided that you pay a royalty fee of of the gross profits you derive from the use of project gutenberg tm works calculated using the method you already use to calculate your applicable taxes the fee is owed to the owner of the project gutenberg tm tradema\n",
      "Iter: 5000, best_score: 73396.66101321064\n",
      "ting project gutenberg tm electronic works provided that you pay a royalty fee of of the gross profits you derive from the use of project gutenberg tm works calculated using the method you already use to calculate your applicable taxes the fee is owed to the owner of the project gutenberg tm tradema\n",
      "Iter: 6000, best_score: 73396.66101321064\n",
      "ting project gutenberg tm electronic works provided that you pay a royalty fee of of the gross profits you derive from the use of project gutenberg tm works calculated using the method you already use to calculate your applicable taxes the fee is owed to the owner of the project gutenberg tm tradema\n",
      "Iter: 7000, best_score: 73396.66101321064\n",
      "ting project gutenberg tm electronic works provided that you pay a royalty fee of of the gross profits you derive from the use of project gutenberg tm works calculated using the method you already use to calculate your applicable taxes the fee is owed to the owner of the project gutenberg tm tradema\n",
      "Iter: 8000, best_score: 73396.66101321064\n",
      "ting project gutenberg tm electronic works provided that you pay a royalty fee of of the gross profits you derive from the use of project gutenberg tm works calculated using the method you already use to calculate your applicable taxes the fee is owed to the owner of the project gutenberg tm tradema\n",
      "Iter: 9000, best_score: 73396.66101321064\n",
      "ting project gutenberg tm electronic works provided that you pay a royalty fee of of the gross profits you derive from the use of project gutenberg tm works calculated using the method you already use to calculate your applicable taxes the fee is owed to the owner of the project gutenberg tm tradema\n",
      "CPU times: user 4min 2s, sys: 5.87 s, total: 4min 8s\n",
      "Wall time: 4min 24s\n"
     ]
    }
   ],
   "source": [
    "%%time\n",
    "mcmc_mapping_eng = mcmc_trigrams(train_part_eng, test_part_eng_encoded, 10000, 1000)"
   ]
  },
  {
   "cell_type": "code",
   "execution_count": 66,
   "metadata": {},
   "outputs": [
    {
     "name": "stdout",
     "output_type": "stream",
     "text": [
      "ENG accuracy: 1.0\n"
     ]
    }
   ],
   "source": [
    "test_part_eng_decoded_mcmc = decode_text_by_mapping(test_part_eng_encoded, mcmc_mapping_eng)\n",
    "print(f'ENG accuracy: {get_metric(test_part_eng_encoded, test_part_eng_decoded_mcmc, decode_mapping_eng)}')"
   ]
  },
  {
   "cell_type": "code",
   "execution_count": 67,
   "metadata": {},
   "outputs": [
    {
     "data": {
      "application/vnd.jupyter.widget-view+json": {
       "model_id": "",
       "version_major": 2,
       "version_minor": 0
      },
      "text/plain": [
       "  0%|          | 0/500000 [00:00<?, ?it/s]"
      ]
     },
     "metadata": {},
     "output_type": "display_data"
    },
    {
     "name": "stdout",
     "output_type": "stream",
     "text": [
      "Iter: 0, best_score: 344.26089352414954\n",
      "олна рд раюасо иевьтнуидг ана пемса иевьтнуидг соклс б шсеые леезжоиач кесевдг ноыке пвемастсу лкевоо рлоые рд рло люонтна пвтрануие а пенбмасо ьтклаьтнуидг зтнн йт пелноюиоо мосровсео йтютиао кбвлт хесч кеиомие ч иамоые ио езожтя\n",
      "Iter: 100000, best_score: 1527.423397108746\n",
      "если ву видите нормальную или почти нормальную текст ж этого сообщения которую легко прочитать скорее всего ву все сделали правильно и полжчите максимальную балл за последнее четвертое задание кжрса хотя конечно я ничего не обещай\n",
      "Iter: 200000, best_score: 1527.423397108746\n",
      "если ву видите нормальную или почти нормальную текст ж этого сообщения которую легко прочитать скорее всего ву все сделали правильно и полжчите максимальную балл за последнее четвертое задание кжрса хотя конечно я ничего не обещай\n",
      "Iter: 300000, best_score: 1527.423397108746\n",
      "если ву видите нормальную или почти нормальную текст ж этого сообщения которую легко прочитать скорее всего ву все сделали правильно и полжчите максимальную балл за последнее четвертое задание кжрса хотя конечно я ничего не обещай\n",
      "Iter: 400000, best_score: 1527.423397108746\n",
      "если ву видите нормальную или почти нормальную текст ж этого сообщения которую легко прочитать скорее всего ву все сделали правильно и полжчите максимальную балл за последнее четвертое задание кжрса хотя конечно я ничего не обещай\n",
      "CPU times: user 4min 35s, sys: 7.02 s, total: 4min 42s\n",
      "Wall time: 4min 43s\n"
     ]
    }
   ],
   "source": [
    "%%time\n",
    "mcmc_mapping = mcmc_trigrams(corpus_rus, text_encoded, 500000, 100000)"
   ]
  },
  {
   "cell_type": "markdown",
   "metadata": {},
   "source": [
    "Триграммы показали лучшее качество и более быструю сходимомость."
   ]
  }
 ],
 "metadata": {
  "kernelspec": {
   "display_name": "Python 3",
   "language": "python",
   "name": "python3"
  },
  "language_info": {
   "codemirror_mode": {
    "name": "ipython",
    "version": 3
   },
   "file_extension": ".py",
   "mimetype": "text/x-python",
   "name": "python",
   "nbconvert_exporter": "python",
   "pygments_lexer": "ipython3",
   "version": "3.8.5"
  }
 },
 "nbformat": 4,
 "nbformat_minor": 4
}
